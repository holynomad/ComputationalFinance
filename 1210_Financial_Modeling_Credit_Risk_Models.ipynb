{
 "cells": [
  {
   "cell_type": "code",
   "execution_count": 2,
   "metadata": {},
   "outputs": [
    {
     "name": "stdout",
     "output_type": "stream",
     "text": [
      "Estimated Call Price (95% C.I.) =  21.38026513421025  +-  0.2624285371280228\n",
      "BSM Call Price =  13.639615096767713\n"
     ]
    }
   ],
   "source": [
    "# Sampling process with Jump : Black-Scholes-Merton Option Pricing with Jump\n",
    "\n",
    "import numpy as np\n",
    "from scipy import stats\n",
    "\n",
    "# BSM closed-form solution (for call)\n",
    "def bsm_call_value(S0, K, T, r, sigma):\n",
    "    d1= (np.log(S0/K)+(r+0.5*sigma**2)*T)/(sigma*np.sqrt(T))\n",
    "    d2= (np.log(S0/K)+(r-0.5*sigma**2)*T)/(sigma*np.sqrt(T))\n",
    "    call_value = (S0*stats.norm.cdf(d1,0.0,1.0) - K*np.exp(-r*T)*stats.norm.cdf(d2,0.0,1.0))\n",
    "    return call_value\n",
    "\n",
    "\n",
    "# BSMOPM params.\n",
    "S_0= 100.\n",
    "K= 105.\n",
    "T= 2.\n",
    "r= 0.05\n",
    "sigma= 0.2\n",
    "avg_jump_num = 2.0\n",
    "avg_jump_logsize = 0.0\n",
    "vol_jump_logsize = 0.2\n",
    "\n",
    "# Risk-neutral valuation 보정위한 계수 eta\n",
    "eta = np.exp(avg_jump_logsize + vol_jump_logsize**2/2)-1\n",
    "\n",
    "# Monte Carlo Simulation\n",
    "N = int(1e5)         # Number of sample paths\n",
    "W_T = np.random.normal(loc=0.0, scale=np.sqrt(T), size=N)\n",
    "jump_num = np.random.poisson(lam=avg_jump_num*T, size=N)\n",
    "jump_size = np.ones(N)\n",
    "\n",
    "for i in range(N):\n",
    "    if(jump_num[i]>0):\n",
    "        jump_size[i] = np.prod( np.exp( np.random.normal(loc=avg_jump_logsize, scale=vol_jump_logsize, size=jump_num[i])))\n",
    "        \n",
    "S_T = S_0*np.exp((r-avg_jump_num*eta-0.5*sigma*sigma)*T + sigma*W_T)*jump_size # RN 적용시 보정하기 위한 term w\n",
    "C_0 = np.exp(-r*T)*(S_T-K)*(S_T > K)\n",
    "\n",
    "print('Estimated Call Price (95% C.I.) = ',np.mean(C_0),' +- ',1.96*np.std(C_0)/np.sqrt(N))\n",
    "print('BSM Call Price = ', bsm_call_value(S_0,K,T,r,sigma))"
   ]
  },
  {
   "cell_type": "code",
   "execution_count": 3,
   "metadata": {},
   "outputs": [
    {
     "name": "stdout",
     "output_type": "stream",
     "text": [
      "Fair spread =  30.005559556052  (bps)\n"
     ]
    }
   ],
   "source": [
    "# CDS_spread_flat_intensity with RN\n",
    "\n",
    "import numpy as np\n",
    "\n",
    "np.random.seed(0)\n",
    "\n",
    "M = int(1e6)   # Number of simulation paths\n",
    "\n",
    "default_intensity = 0.005 # 대략 200년에 한번 default 날 가능성 \n",
    "loss_given_default = 0.6  # 1-회수율(0.4)\n",
    "\n",
    "T = 5.0  # 5년만기\n",
    "r = 0.02 # 이자율\n",
    "\n",
    "D_0 = 0.0 # default leg\n",
    "P_0 = 0.0 # premium leg\n",
    "\n",
    "for idx in range(M):\n",
    "    default_time = np.random.exponential(1.0/default_intensity) # calualate default_time\n",
    "    \n",
    "    if(default_time < T): # CDS 만기 이전에 default 발생시\n",
    "        D_0 = D_0 + np.exp(-r*default_time)*loss_given_default\n",
    "        \n",
    "    t_m = 0.0\n",
    "    while(t_m < T): # 만기이전\n",
    "        t_m = t_m + 0.25 # 3개월마다 한번씩 quaterly payment Cm (=0.25) 누적합\n",
    "        if(t_m < default_time):\n",
    "            P_0 = P_0 + np.exp(-r*t_m)*0.25\n",
    "            \n",
    "spread = D_0 / P_0 * 10000    # fair spread in basis point : 1bps = 0.0001 ??\n",
    "print(\"Fair spread = \",spread, \" (bps)\")"
   ]
  }
 ],
 "metadata": {
  "kernelspec": {
   "display_name": "Python 3",
   "language": "python",
   "name": "python3"
  },
  "language_info": {
   "codemirror_mode": {
    "name": "ipython",
    "version": 3
   },
   "file_extension": ".py",
   "mimetype": "text/x-python",
   "name": "python",
   "nbconvert_exporter": "python",
   "pygments_lexer": "ipython3",
   "version": "3.7.4"
  }
 },
 "nbformat": 4,
 "nbformat_minor": 4
}
