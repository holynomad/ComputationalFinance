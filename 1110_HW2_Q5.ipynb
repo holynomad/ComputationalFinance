{
 "cells": [
  {
   "cell_type": "code",
   "execution_count": 2,
   "metadata": {},
   "outputs": [
    {
     "name": "stdout",
     "output_type": "stream",
     "text": [
      "Estimated Asian Option Price (95% CI) =  7.222628904602391  ±  0.007211881482754334\n"
     ]
    }
   ],
   "source": [
    "# 5. asian option pricing by simulation\n",
    "# use MC simulation to estimate the price of an asian call option (underlying stock price follows GBM)\n",
    "import numpy as np\n",
    "import matplotlib.pyplot as plt\n",
    "\n",
    "np.random.seed(0) \n",
    "N = int(1e7)\n",
    "\n",
    "M = 8\n",
    "T = 2.0 \n",
    "dt = T/M # 3개월마다 sampling \n",
    "\n",
    "S0 = 100 \n",
    "K=105 \n",
    "r=0.05 \n",
    "sig=0.2\n",
    "\n",
    "W = np.zeros((N,M)) \n",
    "S_t = np.zeros((N,M)) \n",
    "t = np.zeros(M)\n",
    "\n",
    "for j in range(M):\n",
    "    dW = np.random.randn(N)*np.sqrt(dt) \n",
    "    \n",
    "    if j<1:\n",
    "        W[:,j] = dW \n",
    "    else:\n",
    "        W[:,j] = W[:,j-1] + dW \n",
    "        \n",
    "    t[j] = dt*(j+1)    \n",
    "    S_t[:,j] = S0*np.exp((r-sig*sig/2)*t[j]+sig*W[:,j])\n",
    "    \n",
    "S_avg = np.mean(S_t, axis=1) # 열단위 mean 구하기 위해 axis = 1\n",
    "h_0 = np.exp(-r*T)*(S_avg-K)*(S_avg >= K)\n",
    "\n",
    "h_0_mean = np.mean(h_0) \n",
    "h_0_std = np.std(h_0)\n",
    "\n",
    "print('Estimated Asian Option Price (95% CI) = ',h_0_mean,' ± ',1.96*h_0_std/np.sqrt(N))\n"
   ]
  }
 ],
 "metadata": {
  "kernelspec": {
   "display_name": "Python 3",
   "language": "python",
   "name": "python3"
  },
  "language_info": {
   "codemirror_mode": {
    "name": "ipython",
    "version": 3
   },
   "file_extension": ".py",
   "mimetype": "text/x-python",
   "name": "python",
   "nbconvert_exporter": "python",
   "pygments_lexer": "ipython3",
   "version": "3.7.4"
  }
 },
 "nbformat": 4,
 "nbformat_minor": 4
}
