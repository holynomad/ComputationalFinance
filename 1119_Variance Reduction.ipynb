{
 "cells": [
  {
   "cell_type": "code",
   "execution_count": 2,
   "metadata": {},
   "outputs": [
    {
     "name": "stdout",
     "output_type": "stream",
     "text": [
      "h_0 = 7.2293873908272\n",
      "95% confidence interval = [7.228221305965206, 7.230553475689194]\n"
     ]
    }
   ],
   "source": [
    "# 1) Variance reduction using Control Variates\n",
    "\n",
    "import numpy as np\n",
    "from scipy import stats\n",
    " \n",
    "## BSM closed-form solution (for call) ##\n",
    "def bsm_call_value(S0, K, T, r, sigma):\n",
    "    d1= (np.log(S0/K)+(r+0.5*sigma**2)*T)/(sigma*np.sqrt(T))\n",
    "    d2= (np.log(S0/K)+(r-0.5*sigma**2)*T)/(sigma*np.sqrt(T))\n",
    "    call_value = (S0*stats.norm.cdf(d1,0.0,1.0) - K*np.exp(-r*T)*stats.norm.cdf(d2,0.0,1.0))\n",
    "    return call_value\n",
    "\n",
    "    \n",
    "np.random.seed(0)\n",
    "N=int(1e6)\n",
    " \n",
    "S0=100 ; K=105 ; T=2 ; r=0.05 ; sig=0.2\n",
    "\n",
    "M = 8  \n",
    "dt = T/M\n",
    "\n",
    "mu = np.zeros(M)\n",
    "A = np.zeros((M,M))\n",
    "for i in range(M):\n",
    "    for j in range(M):\n",
    "        if i>=j:\n",
    "            A[i,j] = np.sqrt(dt)\n",
    "\n",
    "mu = np.zeros(M)\n",
    "eye_M = np.eye(M)    \n",
    "Z = np.random.multivariate_normal(mu,eye_M,N)      \n",
    "W = np.dot(A,Z.T)\n",
    "W = W.T\n",
    "S_t = np.zeros((N,M))\n",
    "t = np.zeros(M)\n",
    "\n",
    "for j in range(M):\n",
    "    t[j] = dt*(j+1)\n",
    "    S_t[:,j] = S0*np.exp((r-sig*sig/2)*t[j]+sig*W[:,j])\n",
    "\n",
    "S_t_bar=np.zeros(N)  # 산술 평균\n",
    "S_t_gbar=np.zeros(N) # geometric 평균\n",
    "\n",
    "for k in range(N):\n",
    "    S_t_bar[k]=np.mean(S_t[k,:]) # 산술평균 계산\n",
    "    S_t_gbar[k]=(S0*np.prod(S_t[k,:]))**(1/(M+1)) # 기하평균 계산\n",
    "\n",
    "h_T  = (S_t_bar-K)*(S_t_bar>K)   # 일반적 asian call option pay-off\n",
    "CV_T = (S_t_gbar-K)*(S_t_gbar>K) # geometric asian call option pay-off\n",
    "h_0  = np.exp(-r*T)*h_T\n",
    "CV_0 = np.exp(-r*T)*CV_T  # 부산물\n",
    "\n",
    "# closed-form solution of a version of Asian call (= geometric asian call)\n",
    "# control Variate(IV) 참조\n",
    "sig_z = sig*np.sqrt((2*M+1)/(6*M+6))\n",
    "rho   = 0.5*((r-sig*sig/2)+sig_z*sig_z)\n",
    "E_CV_0 = np.exp((rho-r)*T)*bsm_call_value(S0, K, T, rho, sig_z) #\n",
    "\n",
    "\n",
    "# control variate method\n",
    "cov_mat = np.cov(h_0,CV_0)\n",
    "c_star = - cov_mat[0,1]/cov_mat[1,1] # C*\n",
    "\n",
    "h_0_c = h_0 + c_star*(CV_0-E_CV_0)\n",
    "\n",
    "h_0_e = np.mean(h_0_c) ; h_0_std = np.std(h_0_c)\n",
    "\n",
    "print(\"h_0 =\",h_0_e) \n",
    "print(\"95% confidence interval =\",[h_0_e-1.96*h_0_std/np.sqrt(N),h_0_e+1.96*h_0_std/np.sqrt(N)])"
   ]
  },
  {
   "cell_type": "code",
   "execution_count": 4,
   "metadata": {},
   "outputs": [
    {
     "name": "stdout",
     "output_type": "stream",
     "text": [
      "Estimated Call Price (95% C.I.) =  13.639488506516521  +-  0.002240720325430203\n",
      "True Call Price =  13.639615096767713\n"
     ]
    }
   ],
   "source": [
    "# 2) Variance reduction using Antithetic variation\n",
    "\n",
    "###########################################\n",
    "##  Black-Scholes-Merton Option Pricing  ##\n",
    "##  written by Baeho Kim                 ##\n",
    "###########################################\n",
    "\n",
    "import numpy as np\n",
    "from scipy import stats\n",
    "\n",
    "## BSM closed-form solution (for call) ##\n",
    "def bsm_call_value(S0, K, T, r, sigma):\n",
    "    d1= (np.log(S0/K)+(r+0.5*sigma**2)*T)/(sigma*np.sqrt(T))\n",
    "    d2= (np.log(S0/K)+(r-0.5*sigma**2)*T)/(sigma*np.sqrt(T))\n",
    "    call_value = (S0*stats.norm.cdf(d1,0.0,1.0) - K*np.exp(-r*T)*stats.norm.cdf(d2,0.0,1.0))\n",
    "    return call_value\n",
    "\n",
    "\n",
    "## BSMOPM parameter setting ##\n",
    "S_0= 100.\n",
    "K= 105.\n",
    "T= 2.\n",
    "r= 0.05\n",
    "sigma= 0.2\n",
    "\n",
    "## Monte Carlo Simulation with Antithetic Variates ##\n",
    "N = int(1e8)         # Number of sample paths\n",
    "W_1_T = np.random.normal(loc=0.0, scale=np.sqrt(T), size=N)\n",
    "W_2_T = -W_1_T\n",
    "\n",
    "S_1_T = S_0*np.exp((r-0.5*sigma*sigma)*T + sigma*W_1_T)\n",
    "S_2_T = S_0*np.exp((r-0.5*sigma*sigma)*T + sigma*W_2_T)\n",
    "\n",
    "C_1_0 = np.exp(-r*T)*(S_1_T-K)*(S_1_T > K)\n",
    "C_2_0 = np.exp(-r*T)*(S_2_T-K)*(S_2_T > K)\n",
    "C_0 = 0.5*(C_1_0 + C_2_0)\n",
    "\n",
    "print('Estimated Call Price (95% C.I.) = ',np.mean(C_0),' +- ',1.96*np.std(C_0)/np.sqrt(N))\n",
    "print('True Call Price = ', bsm_call_value(S_0,K,T,r,sigma))"
   ]
  },
  {
   "cell_type": "code",
   "execution_count": 7,
   "metadata": {},
   "outputs": [
    {
     "name": "stdout",
     "output_type": "stream",
     "text": [
      "0.03703 0.0011704134559657109\n",
      "0.036398840810640855 0.00025480199574543275\n"
     ]
    }
   ],
   "source": [
    "# 3) conditional Monte Carlo\n",
    "\n",
    "import numpy as np\n",
    "\n",
    "np.random.seed(0)\n",
    "\n",
    "N = int(1e5)\n",
    "\n",
    "Y = np.random.exponential(1.0, N)\n",
    "Z = np.random.exponential(0.5, N)\n",
    "\n",
    "plain_MC = (Y+Z>4)\n",
    "conditional_MC = np.exp(-(4-Z))*(Z<=4)+np.ones(N)*(Z>4)\n",
    "\n",
    "print(np.mean(plain_MC), 1.96*np.std(plain_MC)/np.sqrt(N))\n",
    "print(np.mean(conditional_MC), 1.96*np.std(conditional_MC)/np.sqrt(N))\n"
   ]
  },
  {
   "cell_type": "code",
   "execution_count": 9,
   "metadata": {},
   "outputs": [
    {
     "name": "stdout",
     "output_type": "stream",
     "text": [
      "theta_MC_e = 0.0\n",
      "95% confidence interval = [0.0, 0.0]\n",
      "theta_IS_e = 3.0500060098140967e-138\n",
      "95% confidence interval = [3.0395783155760526e-138, 3.060433704052141e-138]\n"
     ]
    }
   ],
   "source": [
    "# 4) importance sampling\n",
    "# --> likelihood ratio가 좋아야 적용가능 (이 부분이 pain-point)\n",
    "# variance reduction 효과만으로 따지면 제일 베스트\n",
    "\n",
    "import numpy as np\n",
    " \n",
    "np.random.seed(0)\n",
    "N  = int(1e7)\n",
    "mu = 25\n",
    "\n",
    "# crude MC\n",
    "X_MC = np.random.randn(N)\n",
    "theta_MC = (X_MC>mu)\n",
    "\n",
    "theta_MC_e   = np.mean(theta_MC)\n",
    "theta_MC_std = np.std(theta_MC)\n",
    "\n",
    "print(\"theta_MC_e =\",theta_MC_e) \n",
    "print(\"95% confidence interval =\",[theta_MC_e-1.96*theta_MC_std/np.sqrt(N),theta_MC_e+1.96*theta_MC_std/np.sqrt(N)])\n",
    "\n",
    "\n",
    "# importance sampling (crude MC대비 무한대배 정교함, but 수학적 모델링 필요)\n",
    "X_IS = np.random.randn(N) + mu\n",
    "theta_IS = np.exp(-mu*X_IS+mu*mu/2)*(X_IS>mu)\n",
    "\n",
    "theta_IS_e   = np.mean(theta_IS)\n",
    "theta_IS_std = np.std(theta_IS)\n",
    "    \n",
    "print(\"theta_IS_e =\",theta_IS_e) \n",
    "print(\"95% confidence interval =\",[theta_IS_e-1.96*theta_IS_std/np.sqrt(N),theta_IS_e+1.96*theta_IS_std/np.sqrt(N)])"
   ]
  }
 ],
 "metadata": {
  "kernelspec": {
   "display_name": "Python 3",
   "language": "python",
   "name": "python3"
  },
  "language_info": {
   "codemirror_mode": {
    "name": "ipython",
    "version": 3
   },
   "file_extension": ".py",
   "mimetype": "text/x-python",
   "name": "python",
   "nbconvert_exporter": "python",
   "pygments_lexer": "ipython3",
   "version": "3.7.4"
  }
 },
 "nbformat": 4,
 "nbformat_minor": 4
}
