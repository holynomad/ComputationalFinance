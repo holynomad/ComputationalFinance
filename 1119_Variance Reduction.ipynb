{
 "cells": [
  {
   "cell_type": "code",
   "execution_count": 2,
   "metadata": {},
   "outputs": [
    {
     "name": "stdout",
     "output_type": "stream",
     "text": [
      "h_0 = 7.2293873908272\n",
      "95% confidence interval = [7.228221305965206, 7.230553475689194]\n"
     ]
    }
   ],
   "source": [
    "# Variance reductino using Control Variates\n",
    "\n",
    "import numpy as np\n",
    "from scipy import stats\n",
    " \n",
    "## BSM closed-form solution (for call) ##\n",
    "def bsm_call_value(S0, K, T, r, sigma):\n",
    "    d1= (np.log(S0/K)+(r+0.5*sigma**2)*T)/(sigma*np.sqrt(T))\n",
    "    d2= (np.log(S0/K)+(r-0.5*sigma**2)*T)/(sigma*np.sqrt(T))\n",
    "    call_value = (S0*stats.norm.cdf(d1,0.0,1.0) - K*np.exp(-r*T)*stats.norm.cdf(d2,0.0,1.0))\n",
    "    return call_value\n",
    "\n",
    "    \n",
    "np.random.seed(0)\n",
    "N=int(1e6)\n",
    " \n",
    "S0=100 ; K=105 ; T=2 ; r=0.05 ; sig=0.2\n",
    "\n",
    "M = 8  \n",
    "dt = T/M\n",
    "\n",
    "mu = np.zeros(M)\n",
    "A = np.zeros((M,M))\n",
    "for i in range(M):\n",
    "    for j in range(M):\n",
    "        if i>=j:\n",
    "            A[i,j] = np.sqrt(dt)\n",
    "\n",
    "mu = np.zeros(M)\n",
    "eye_M = np.eye(M)    \n",
    "Z = np.random.multivariate_normal(mu,eye_M,N)      \n",
    "W = np.dot(A,Z.T)\n",
    "W=W.T\n",
    "S_t = np.zeros((N,M))\n",
    "t = np.zeros(M)\n",
    "for j in range(M):\n",
    "    t[j] = dt*(j+1)\n",
    "    S_t[:,j] = S0*np.exp((r-sig*sig/2)*t[j]+sig*W[:,j])\n",
    "\n",
    "S_t_bar=np.zeros(N) # 산술 평균\n",
    "S_t_gbar=np.zeros(N) # geometric 평균\n",
    "\n",
    "for k in range(N):\n",
    "    S_t_bar[k]=np.mean(S_t[k,:]) # 산술평균 계산\n",
    "    S_t_gbar[k]=(S0*np.prod(S_t[k,:]))**(1/(M+1)) # 기하평균 계산\n",
    "\n",
    "h_T = (S_t_bar-K)*(S_t_bar>K) # 일반적 asian call option pay-off\n",
    "CV_T = (S_t_gbar-K)*(S_t_gbar>K) # geometric asian call option pay-off\n",
    "h_0 = np.exp(-r*T)*h_T\n",
    "CV_0 = np.exp(-r*T)*CV_T  # 부산물\n",
    "\n",
    "## closed-form solution of a version of Asian call (= geometric asian call)\n",
    "# control Variagte(IV) 참조\n",
    "sig_z = sig*np.sqrt((2*M+1)/(6*M+6))\n",
    "rho = 0.5*((r-sig*sig/2)+sig_z*sig_z)\n",
    "E_CV_0 = np.exp((rho-r)*T)*bsm_call_value(S0, K, T, rho, sig_z) #\n",
    "\n",
    "\n",
    "## control variate method\n",
    "cov_mat = np.cov(h_0,CV_0)\n",
    "c_star = - cov_mat[0,1]/cov_mat[1,1] # C*\n",
    "\n",
    "h_0_c = h_0 + c_star*(CV_0-E_CV_0)\n",
    "\n",
    "h_0_e = np.mean(h_0_c) ; h_0_std = np.std(h_0_c)\n",
    "\n",
    "print(\"h_0 =\",h_0_e) \n",
    "print(\"95% confidence interval =\",[h_0_e-1.96*h_0_std/np.sqrt(N),h_0_e+1.96*h_0_std/np.sqrt(N)])"
   ]
  },
  {
   "cell_type": "code",
   "execution_count": null,
   "metadata": {},
   "outputs": [],
   "source": [
    "# Variance reductino using Antithetic variation\n",
    "\n"
   ]
  }
 ],
 "metadata": {
  "kernelspec": {
   "display_name": "Python 3",
   "language": "python",
   "name": "python3"
  },
  "language_info": {
   "codemirror_mode": {
    "name": "ipython",
    "version": 3
   },
   "file_extension": ".py",
   "mimetype": "text/x-python",
   "name": "python",
   "nbconvert_exporter": "python",
   "pygments_lexer": "ipython3",
   "version": "3.7.4"
  }
 },
 "nbformat": 4,
 "nbformat_minor": 4
}
