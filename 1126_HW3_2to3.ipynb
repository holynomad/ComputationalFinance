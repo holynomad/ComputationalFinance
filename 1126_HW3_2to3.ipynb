{
 "cells": [
  {
   "cell_type": "code",
   "execution_count": 3,
   "metadata": {},
   "outputs": [
    {
     "name": "stdout",
     "output_type": "stream",
     "text": [
      "95% CI = [ 6.842528842818334 ,  6.991517152199645 ]\n"
     ]
    }
   ],
   "source": [
    "# 2. Reduction of the Discretization bias\n",
    "# (a) give an estimate of the UOP option price with 95% CI\n",
    "import numpy as np\n",
    "\n",
    "def prob_cross_barrier(t_i, t_j, x, y, sig, H):\n",
    "    prob = np.exp( (2/(sig*sig))/(t_j-t_i) * np.log(H/x) * np.log(y/H)) * (x<H)*(y<H) + (x>=H) + (y>=H) # True(1) + True(1) = True(1)\n",
    "    return prob\n",
    "\n",
    "prob_cross_barrier(t_i=0, t_j=1, x=80, y=85, sig=0.2, H=90)\n",
    "\n",
    "np.random.seed(1)\n",
    "N=int(5*1e5)\n",
    "\n",
    "T = 0.25  # 3 months\n",
    "M = 63 # 3개월을 데일리 샘플링\n",
    "dt = T/M\n",
    "\n",
    "# St = GBM\n",
    "S0 = 50; sig=0.3; r=0.05; K=60; H=55; \n",
    "\n",
    "W_T = np.random.randn(N)*np.sqrt(T)\n",
    "S_T = S0*np.exp((r-sig*sig/2)*T+sig*W_T)\n",
    "\n",
    "prob_vec = prob_cross_barrier(0, T, S0, S_T, sig, H)\n",
    "\n",
    "UOP_T = (K-S_T)*(K>=S_T)*(1-prob_vec)\n",
    "UOP_0 = np.exp(-r*T)*UOP_T\n",
    "\n",
    "print(\"95% CI = [\", np.mean(UOP_0)-1.96*np.std(UOP_0)/np.sqrt(N), \\\n",
    "     \", \", np.mean(UOP_0)+1.96**np.std(UOP_0)/np.sqrt(N), \"]\")\n",
    "\n",
    "\n",
    "\n",
    "\n"
   ]
  },
  {
   "cell_type": "code",
   "execution_count": 6,
   "metadata": {},
   "outputs": [
    {
     "name": "stdout",
     "output_type": "stream",
     "text": [
      "95% CI = [ 9.472670730085742 ,  9.553952489637718 ]\n"
     ]
    }
   ],
   "source": [
    "# 2-(b) with Rebate\n",
    "\n",
    "import numpy as np\n",
    "\n",
    "def prob_cross_barrier(dt, x, y, sig, H):\n",
    "    prob = np.exp( (2/(sig*sig))/(dt) * np.log(H/x) * np.log(y/H)) * (x<H)*(y<H) + (x>=H) + (y>=H) # True(1) + True(1) = True(1)\n",
    "    return prob\n",
    "\n",
    "np.random.seed(1)\n",
    "N=int(5*1e5)\n",
    "\n",
    "T = 0.25  # 3 months\n",
    "M = 63 # 3개월을 데일리 샘플링\n",
    "dt = T/M\n",
    "\n",
    "# St = GBM\n",
    "S0 = 50; sig=0.3; r=0.05; K=60; H=55; # 기대수익률(mu) 15%의 상품, 변동성(sig, 표준편차) 20%\n",
    "\n",
    "# rebate\n",
    "rebate = 5\n",
    "\n",
    "# W, t = BM\n",
    "W = np.zeros((N,M)) #  matrix\n",
    "St = np.zeros((N,M))\n",
    "t = np.zeros(M) \n",
    "\n",
    "# 시나리오 별(N) 변수(벡터) 추가\n",
    "hitting_idx = np.zeros(N) # 처음에 50부터 시작이니 zero로 채움\n",
    "first_hitting_time = np.zeros(N)*T # first hitting만 기록\n",
    "S_prev = S0*np.ones(N) # 어제 종가\n",
    "\n",
    "for j in range(M):\n",
    "    dW = np.random.randn(N)*np.sqrt(dt) # 분산이 sqrt(dt)인 정규분포 Y\n",
    "    \n",
    "    if j<1:\n",
    "        W[:,j] = dW\n",
    "    else:\n",
    "        W[:,j] = W[:,j-1] + dW\n",
    "        \n",
    "    t[j] = dt*(j+1)\n",
    "    St[:,j] = S0*np.exp((r-sig*sig/2)*t[j]+sig*W[:,j]) # St의 모든열 중 i+1번째 행에 S0*exp를 대입\n",
    "    \n",
    "    hitting_prob = prob_cross_barrier(dt, S_prev, St[:,j], sig, H)\n",
    "    unif_vec = np.random.rand(N)\n",
    "    \n",
    "    first_hitting_time = (t[j]-0.5*dt)*(1-hitting_idx)*(unif_vec<=hitting_prob) + first_hitting_time*hitting_idx # (중요) hitting idx = 1 경우 + 기존 hitting idx = 0 & 지금 생성된 주식가격 > H 일때 기록\n",
    "    hitting_idx = (1-hitting_idx)*(unif_vec<=hitting_prob) + hitting_idx # (중요) hitting idx 업데이트, barrier 안쳤을 확률(hitting_prob) 체크\n",
    "    S_prev = St[:,j]\n",
    "    \n",
    "#UOP_T = (K - St[:,-1])*(St[:,-1]<K)*(St_max<H)\n",
    "UOP_0 = np.exp(-r*T)*(K-St[:,-1])*(St[:,-1]<K)*(1-hitting_idx) + np.exp(-r*first_hitting_time)*rebate*hitting_idx       # 만기까지 가서 pay-off 받거나, 중간에 쳐서 rebate 받거나\n",
    "        \n",
    "\n",
    "print(\"95% CI = [\", np.mean(UOP_0)-1.96*np.std(UOP_0)/np.sqrt(N), \\\n",
    "     \", \", np.mean(UOP_0)+1.96**np.std(UOP_0)/np.sqrt(N), \"]\")"
   ]
  },
  {
   "cell_type": "code",
   "execution_count": 7,
   "metadata": {},
   "outputs": [
    {
     "name": "stdout",
     "output_type": "stream",
     "text": [
      "95% CI = [ 9.440516289874488 ,  9.53200428599312 ]\n"
     ]
    }
   ],
   "source": [
    "# 3. Barrier options under the CEV model\n",
    "# (a) no rebate\n",
    "\n",
    "import numpy as np\n",
    "\n",
    "def prob_cross_barrier(t_i, t_j, x, y, sig, H):\n",
    "    prob = np.exp( (2/(sig*sig))/(t_j-t_i) * np.log(H/x) * np.log(y/H)) * (x<H)*(y<H) + (x>=H) + (y>=H) # True(1) + True(1) = True(1)\n",
    "    return prob\n",
    "\n",
    "#prob_cross_barrier(t_i=0, t_j=1, x=80, y=85, sig=0.2, H=90)\n",
    "\n",
    "np.random.seed(1)\n",
    "N=int(5*1e5)\n",
    "\n",
    "T = 0.25  # 3 months\n",
    "M = 63 # 3개월을 데일리 샘플링\n",
    "dt = T/M\n",
    "\n",
    "# \n",
    "beta = -0.8\n",
    "S0 = 50\n",
    "alpha = 0.3 * (S0**(-beta))\n",
    "\n",
    "# blah...blah (to be updated...)\n"
   ]
  },
  {
   "cell_type": "code",
   "execution_count": 8,
   "metadata": {},
   "outputs": [
    {
     "name": "stdout",
     "output_type": "stream",
     "text": [
      "95% CI = [ 9.440516289874488 ,  9.53200428599312 ]\n"
     ]
    }
   ],
   "source": [
    "# 3. Barrier options under the CEV model\n",
    "# (b) with Rebate\n",
    "\n",
    "import numpy as np\n",
    "\n",
    "def prob_cross_barrier(dt, x, y, sig, H):\n",
    "    prob = np.exp( (2/(sig*sig))/(dt) * np.log(H/x) * np.log(y/H)) * (x<H)*(y<H) + (x>=H) + (y>=H) # True(1) + True(1) = True(1)\n",
    "    return prob\n",
    "\n",
    "np.random.seed(1)\n",
    "N=int(5*1e5)\n",
    "\n",
    "T = 0.25  # 3 months\n",
    "M = 63 # 3개월을 데일리 샘플링\n",
    "dt = T/M\n",
    "\n",
    "# St = GBM\n",
    "S0 = 50; sig=0.3; r=0.05; K=60; H=55; # 기대수익률(mu) 15%의 상품, 변동성(sig, 표준편차) 20%\n",
    "\n",
    "# rebate\n",
    "rebate = 5\n",
    "\n",
    "# W, t = BM\n",
    "W = np.zeros((N,M)) #  matrix\n",
    "St = np.zeros((N,M))\n",
    "t = np.zeros(M) \n",
    "\n",
    "#\n",
    "beta = -0.8\n",
    "S0 = 50\n",
    "alpha = 0.3 * (S0**(-beta))\n",
    "\n",
    "# 시나리오 별(N) 변수(벡터) 추가\n",
    "hitting_idx = np.zeros(N) # 처음에 50부터 시작이니 zero로 채움\n",
    "first_hitting_time = np.zeros(N)*T # first hitting만 기록\n",
    "S_prev = S0*np.ones(N) # 어제 종가\n",
    "\n",
    "for j in range(M):\n",
    "    dW = np.random.randn(N)*np.sqrt(dt) # 분산이 sqrt(dt)인 정규분포 Y\n",
    "    \n",
    "    if j<1:\n",
    "        W[:,j] = dW\n",
    "    else:\n",
    "        W[:,j] = W[:,j-1] + dW\n",
    "        \n",
    "    t[j] = dt*(j+1)\n",
    "    St[:,j] = S_prev + r*S_prev*dt + alpha*S_prev**(beta+1)*dW # 이 부분 핵심 !!!  \n",
    "    \n",
    "    hitting_prob = prob_cross_barrier(dt, S_prev, St[:,j], sig, H)\n",
    "    unif_vec = np.random.rand(N)\n",
    "    \n",
    "    first_hitting_time = (t[j]-0.5*dt)*(1-hitting_idx)*(unif_vec<=hitting_prob) + first_hitting_time*hitting_idx # (중요) hitting idx = 1 경우 + 기존 hitting idx = 0 & 지금 생성된 주식가격 > H 일때 기록\n",
    "    hitting_idx = (1-hitting_idx)*(unif_vec<=hitting_prob) + hitting_idx # (중요) hitting idx 업데이트, barrier 안쳤을 확률(hitting_prob) 체크\n",
    "    S_prev = St[:,j]\n",
    "    \n",
    "#UOP_T = (K - St[:,-1])*(St[:,-1]<K)*(St_max<H)\n",
    "UOP_0 = np.exp(-r*T)*(K-St[:,-1])*(St[:,-1]<K)*(1-hitting_idx) + np.exp(-r*first_hitting_time)*rebate*hitting_idx       # 만기까지 가서 pay-off 받거나, 중간에 쳐서 rebate 받거나\n",
    "        \n",
    "\n",
    "print(\"95% CI = [\", np.mean(UOP_0)-1.96*np.std(UOP_0)/np.sqrt(N), \\\n",
    "     \", \", np.mean(UOP_0)+1.96**np.std(UOP_0)/np.sqrt(N), \"]\")"
   ]
  }
 ],
 "metadata": {
  "kernelspec": {
   "display_name": "Python 3",
   "language": "python",
   "name": "python3"
  },
  "language_info": {
   "codemirror_mode": {
    "name": "ipython",
    "version": 3
   },
   "file_extension": ".py",
   "mimetype": "text/x-python",
   "name": "python",
   "nbconvert_exporter": "python",
   "pygments_lexer": "ipython3",
   "version": "3.7.4"
  }
 },
 "nbformat": 4,
 "nbformat_minor": 4
}
