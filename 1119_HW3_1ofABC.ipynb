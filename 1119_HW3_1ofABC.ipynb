{
 "cells": [
  {
   "cell_type": "code",
   "execution_count": 1,
   "metadata": {},
   "outputs": [
    {
     "name": "stdout",
     "output_type": "stream",
     "text": [
      "95% CI = [ 7.336207263557495 ,  7.633073755343082 ]\n"
     ]
    }
   ],
   "source": [
    "# 1-(b) Provide an estimate with M=63, \n",
    "# bias가 있음 : 실제 예측치는 7.33 보다 작아야 함(discrete하게 모니터링 하기 때문)\n",
    "# 윗쪽으로 bias 발생\n",
    "\n",
    "import numpy as np\n",
    "\n",
    "np.random.seed(1)\n",
    "N=int(5*1e5)\n",
    "\n",
    "T = 0.25  # 3 months\n",
    "M = 63 # 3개월을 데일리 샘플링\n",
    "dt = T/M\n",
    "\n",
    "S0 = 50; sig=0.3; r=0.05; K=60; H=55; \n",
    "\n",
    "W = np.zeros((N,M)) #  N by M matrix\n",
    "St = np.zeros((N,M))\n",
    "t = np.zeros(M) \n",
    "\n",
    "\n",
    "for j in range(M):\n",
    "    dW = np.random.randn(N)*np.sqrt(dt) # 분산이 sqrt(dt)인 정규분포 Y\n",
    "    \n",
    "    if j<1:\n",
    "        W[:,j] = dW\n",
    "    else:\n",
    "        W[:,j] = W[:,j-1] + dW\n",
    "        \n",
    "    t[j] = dt*(j+1)\n",
    "    St[:,j] = S0*np.exp((r-sig*sig/2)*t[j]+sig*W[:,j]) # St의 모든열 중 j번째 행에 S0*exp를 대입\n",
    "    \n",
    "St_max = np.max(St, axis=1) # 행(row)을 고정(axis=1), 각 시나리오별 63일동안 가장 높은(max)값 vector 추출\n",
    "#print(np.size(St_max)) # dimension 확인\n",
    "\n",
    "UOP_T = (K - St[:,-1])*(St[:,-1]<K)*(St_max<H) # 만기 pay-off: 마지막날의 종가(stock price)가 strike price(K)보다 작고, barrier(H) hitting이 없어야 함\n",
    "UOP_0 = np.exp(-r*T)*UOP_T # 초기 값 (할인적용)\n",
    "\n",
    "print(\"95% CI = [\", np.mean(UOP_0)-1.96*np.std(UOP_0)/np.sqrt(N), \\\n",
    "     \", \", np.mean(UOP_0)+1.96**np.std(UOP_0)/np.sqrt(N), \"]\")"
   ]
  },
  {
   "cell_type": "code",
   "execution_count": 3,
   "metadata": {},
   "outputs": [
    {
     "name": "stdout",
     "output_type": "stream",
     "text": [
      "95% CI = [ 9.738646697073676 ,  9.770132219913911 ]\n"
     ]
    }
   ],
   "source": [
    "# 1-(c) consider \"first hitting time\" with rebate $5\n",
    "# 최초로 barrier 넘어 갔을 때 종가시점으로 기록\n",
    "# present value 기준으론 조금 손해 (??)\n",
    "# (b)케이스의 unfair한 에러를 조금 줄였지만, 정확한 simulation이라 할 순 없음\n",
    "# 어떤 방향의 어느정도 bias인지 평가할 순 없음\n",
    "\n",
    "import numpy as np\n",
    "\n",
    "np.random.seed(1)\n",
    "N=int(5*1e5)\n",
    "\n",
    "T = 0.25  # 3 months\n",
    "M = 63 # 3개월을 데일리 샘플링\n",
    "dt = T/M\n",
    "\n",
    "S0 = 50; sig=0.3; r=0.05; K=60; H=55; \n",
    "\n",
    "# with rebate\n",
    "rebate = 5\n",
    "\n",
    "W = np.zeros((N,M)) #  matrix\n",
    "St = np.zeros((N,M))\n",
    "t = np.zeros(M) \n",
    "\n",
    "# 시나리오 별(N) 변수(벡터) 2개 추가\n",
    "hitting_idx = np.zeros(N) # 처음에 50부터 시작이니 zero로 채움\n",
    "first_hitting_time = np.zeros(N) # first hitting만 기록\n",
    "\n",
    "for j in range(M):\n",
    "    dW = np.random.randn(N)*np.sqrt(dt) # 분산이 sqrt(dt)인 정규분포 Y\n",
    "    \n",
    "    if j<1:\n",
    "        W[:,j] = dW\n",
    "    else:\n",
    "        W[:,j] = W[:,j-1] + dW\n",
    "        \n",
    "    t[j] = dt*(j+1)\n",
    "    St[:,j] = S0*np.exp((r-sig*sig/2)*t[j]+sig*W[:,j]) # St의 모든열 중 i+1번째 행에 S0*exp를 대입\n",
    "    \n",
    "    # (중요) hitting idx = 1 경우 + 기존 hitting idx = 0 & 지금 생성된 주식가격 > H 일때 기록\n",
    "    first_hitting_time = t[j]*(1-hitting_idx)*(St[:,j]>=H) + first_hitting_time*hitting_idx \n",
    "    \n",
    "    # (중요) hitting event발생시, idx 업데이트 \n",
    "    hitting_idx = (1-hitting_idx)*(St[:,j]>=H) + hitting_idx \n",
    "    \n",
    "#UOP_T = (K - St[:,-1])*(St[:,-1]<K)*(St_max<H)\n",
    "\n",
    "# hitting idx=1 일때는 rebate 받고 옵션 행사 or hitting idx=0일때는 만기 pay-off 지급\n",
    "UOP_0 = np.exp(-r*T)*(K-St[:,-1])*(St[:,-1]<K)*(1-hitting_idx) + np.exp(-r*first_hitting_time)*rebate*hitting_idx       # 만기까지 가서 pay-off 받거나, 중간에 쳐서 rebate 받거나\n",
    "        \n",
    "\n",
    "print(\"95% CI = [\", np.mean(UOP_0)-1.96*np.std(UOP_0)/np.sqrt(N), \\\n",
    "     \", \", np.mean(UOP_0)+1.96*np.std(UOP_0)/np.sqrt(N), \"]\")"
   ]
  }
 ],
 "metadata": {
  "kernelspec": {
   "display_name": "Python 3",
   "language": "python",
   "name": "python3"
  },
  "language_info": {
   "codemirror_mode": {
    "name": "ipython",
    "version": 3
   },
   "file_extension": ".py",
   "mimetype": "text/x-python",
   "name": "python",
   "nbconvert_exporter": "python",
   "pygments_lexer": "ipython3",
   "version": "3.7.4"
  }
 },
 "nbformat": 4,
 "nbformat_minor": 4
}
