{
 "cells": [
  {
   "cell_type": "code",
   "execution_count": 1,
   "metadata": {},
   "outputs": [
    {
     "data": {
      "image/png": "[encoded data removed]",
      "text/plain": [
       "<Figure size 432x288 with 1 Axes>"
      ]
     },
     "metadata": {
      "needs_background": "light"
     },
     "output_type": "display_data"
    }
   ],
   "source": [
    "#\n",
    "import numpy as np\n",
    "import matplotlib.pyplot as plt\n",
    "\n",
    "np.random.seed(0) \n",
    "N = int(1e4)\n",
    "mu_vec = np.array([0.15, 0.25]) \n",
    "sig_vec = np.array([0.1, 0.2]) \n",
    "corr = 0.2\n",
    "\n",
    "w1 = np.random.rand(N) #0과 1사이의 10,000개의 난수생성 w2=1-w1#자동으로 벡터로 인식\n",
    "w2=1-w1#자동으로 벡터로 인식\n",
    "\n",
    "mu_pf = w1*mu_vec[0] + w2*mu_vec[1] #Python은 인덱스가 0부터 시작한다\n",
    "var_pf = (w1**2)*(sig_vec[0]**2) + (w2**2)*(sig_vec[1]**2) + 2*w1*w2*corr*sig_vec[0]*sig_vec[1]\n",
    "std_pf = np.sqrt(var_pf)\n",
    "\n",
    "plt.plot(std_pf, mu_pf, '.') # '.' 없이 그리면 각 점이 연결되어 면처럼 표현된다. \n",
    "plt.show()"
   ]
  }
 ],
 "metadata": {
  "kernelspec": {
   "display_name": "Python 3",
   "language": "python",
   "name": "python3"
  },
  "language_info": {
   "codemirror_mode": {
    "name": "ipython",
    "version": 3
   },
   "file_extension": ".py",
   "mimetype": "text/x-python",
   "name": "python",
   "nbconvert_exporter": "python",
   "pygments_lexer": "ipython3",
   "version": "3.7.4"
  }
 },
 "nbformat": 4,
 "nbformat_minor": 4
}
