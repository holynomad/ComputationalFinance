{
 "cells": [
  {
   "cell_type": "code",
   "execution_count": 8,
   "metadata": {},
   "outputs": [
    {
     "name": "stdout",
     "output_type": "stream",
     "text": [
      "Estimated Call Price (95% CI) =  13.63964209412154  ±  0.013108171764083364\n",
      "True Call Price =  13.639615096767713\n"
     ]
    }
   ],
   "source": [
    "# 3. BSMOPM by simulation\n",
    "# (a) estimate the call option price and 95% CI\n",
    "# (b) compare (a) and closed-form solution based on BSMOPM formula\n",
    "import numpy as np \n",
    "from scipy import stats \n",
    "\n",
    "# BSM closed-form solution (for call option)\n",
    "def bsm_call_value(S0, K, T, r, sigma): \n",
    "    d1= (np.log(S0/K)+(r+0.5*sigma**2)*T)/(sigma*np.sqrt(T))\n",
    "    d2= (np.log(S0/K)+(r-0.5*sigma**2)*T)/(sigma*np.sqrt(T))\n",
    "    call_value = (S0*stats.norm.cdf(d1,0.0,1.0) - K*np.exp(-r*T)*stats.norm.cdf(d2,0.0,1.0)) \n",
    "    \n",
    "    return call_value\n",
    "\n",
    "# Setting BSMOPM parameters\n",
    "S_0= 100. \n",
    "K= 105.\n",
    "T= 2.\n",
    "r= 0.05 \n",
    "sigma= 0.2\n",
    "\n",
    "# Monte Carlo Simulation\n",
    "N = int(1e7) # no. of sample paths\n",
    "W_T = np.random.randn(N)*np.sqrt(T) # BM\n",
    "S_T = S_0*np.exp((r-0.5*sigma*sigma)*T + sigma*W_T) # GBM모델 T시점 stock price\n",
    "C_0 = np.exp(-r*T)*(S_T-K)*(S_T >= K) # call option price\n",
    "\n",
    "print('Estimated Call Price (95% CI) = ',np.mean(C_0),' ± ',1.96*np.std(C_0)/np.sqrt(N)) # using MC simulation\n",
    "print('Call Price (BSMOPM formula) = ', bsm_call_value(S_0,K,T,r,sigma)) # using BSMOPM formula"
   ]
  },
  {
   "cell_type": "code",
   "execution_count": 9,
   "metadata": {},
   "outputs": [
    {
     "name": "stdout",
     "output_type": "stream",
     "text": [
      "Estimated Put Price (95% CI) =  8.648608386137688  ±  0.007580882991654905\n",
      "True Put Price =  8.647543990543468\n"
     ]
    }
   ],
   "source": [
    "# 3-(c) using Put-Call Parity, repeat (a) & (b) for put option\n",
    "import numpy as np \n",
    "from scipy import stats\n",
    "\n",
    "# BSM closed-form solution (for call option)\n",
    "def bsm_call_value(S0, K, T, r, sigma): \n",
    "    d1= (np.log(S0/K)+(r+0.5*sigma**2)*T)/(sigma*np.sqrt(T))\n",
    "    d2= (np.log(S0/K)+(r-0.5*sigma**2)*T)/(sigma*np.sqrt(T))\n",
    "    call_value = (S0*stats.norm.cdf(d1,0.0,1.0) - K*np.exp(-r*T)*stats.norm.cdf(d2,0.0,1.0)) \n",
    "    return call_value\n",
    "\n",
    "def bsm_put_value(S0, K, T, r, sigma):\n",
    "    put_value = bsm_call_value(S0, K, T, r, sigma) + K*np.exp(-r*T) - S_0\n",
    "    return put_value\n",
    " \n",
    "# Setting BSMOPM parameters\n",
    "S_0= 100. \n",
    "K= 105.\n",
    "T= 2.\n",
    "r= 0.05 \n",
    "sigma= 0.2\n",
    "\n",
    "# Monte Carlo Simulation\n",
    "N = int(1e7) # no. of sample paths\n",
    "W_T = np.random.randn(N)*np.sqrt(T) # BM\n",
    "S_T = S_0*np.exp((r-0.5*sigma*sigma)*T + sigma*W_T) # GBM모델 T시점 stock price\n",
    "P_0 = np.exp(-r*T)*(K - S_T)*(S_T <= K) # put option price\n",
    "\n",
    "print('Estimated Put Price (95% CI) = ',np.mean(P_0),' ± ',1.96*np.std(P_0)/np.sqrt(N)) # using MC simulation\n",
    "print('Put Price (BSMOPM formula) = ', bsm_put_value(S_0,K,T,r,sigma)) # using BSMOPM formula\n"
   ]
  }
 ],
 "metadata": {
  "kernelspec": {
   "display_name": "Python 3",
   "language": "python",
   "name": "python3"
  },
  "language_info": {
   "codemirror_mode": {
    "name": "ipython",
    "version": 3
   },
   "file_extension": ".py",
   "mimetype": "text/x-python",
   "name": "python",
   "nbconvert_exporter": "python",
   "pygments_lexer": "ipython3",
   "version": "3.7.4"
  }
 },
 "nbformat": 4,
 "nbformat_minor": 4
}
