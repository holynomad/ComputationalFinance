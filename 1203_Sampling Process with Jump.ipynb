{
 "cells": [
  {
   "cell_type": "code",
   "execution_count": 26,
   "metadata": {},
   "outputs": [
    {
     "data": {
      "image/png": "[encoded data removed]",
      "text/plain": [
       "<Figure size 432x288 with 1 Axes>"
      ]
     },
     "metadata": {
      "needs_background": "light"
     },
     "output_type": "display_data"
    }
   ],
   "source": [
    "# Poisson process simulation\n",
    "\n",
    "import numpy as np\n",
    "import matplotlib.pyplot as plt\n",
    "\n",
    "T = 25\n",
    "lam = 2 # intensity\n",
    "\n",
    "M = int(1e5) # simulation count\n",
    "X = np.random.poisson(lam*T, size=M)\n",
    "\n",
    "plt.hist(X, bins=60)\n",
    "#plt.xlim([0,30])\n",
    "plt.show()"
   ]
  },
  {
   "cell_type": "code",
   "execution_count": 29,
   "metadata": {},
   "outputs": [
    {
     "data": {
      "image/png": "[encoded data removed]",
      "text/plain": [
       "<Figure size 432x288 with 1 Axes>"
      ]
     },
     "metadata": {
      "needs_background": "light"
     },
     "output_type": "display_data"
    }
   ],
   "source": [
    "# exponential RV process (poisson process와 짝궁)\n",
    "\n",
    "T = 25\n",
    "lam = 2 # intensity\n",
    "\n",
    "M = int(1e5) # simulation count\n",
    "X = np.zeros(M)\n",
    "\n",
    "for i in range(M):\n",
    "    t= 0.0\n",
    "    while(t<T):\n",
    "        tau = np.random.exponential(1/lam) \n",
    "        t = t + tau\n",
    "        \n",
    "        if(t>=T):\n",
    "            break\n",
    "        else:\n",
    "            X[i] = X[i] + 1 # jump-size가 1인 경우\n",
    "            \n",
    "plt.hist(X, bins=65)\n",
    "plt.show()"
   ]
  },
  {
   "cell_type": "code",
   "execution_count": 30,
   "metadata": {},
   "outputs": [
    {
     "name": "stdout",
     "output_type": "stream",
     "text": [
      "Estimated Call Price (95% C.I.) =  26.886846662794973  +-  0.02976093545646247\n",
      "BSM Call Price =  13.639615096767713\n"
     ]
    }
   ],
   "source": [
    "# Black-Scholes-Merton Option Pricing with Jump-diffusion\n",
    "\n",
    "import numpy as np\n",
    "from scipy import stats\n",
    "\n",
    "## BSM closed-form solution (for call) ##\n",
    "def bsm_call_value(S0, K, T, r, sigma):\n",
    "    d1= (np.log(S0/K)+(r+0.5*sigma**2)*T)/(sigma*np.sqrt(T))\n",
    "    d2= (np.log(S0/K)+(r-0.5*sigma**2)*T)/(sigma*np.sqrt(T))\n",
    "    call_value = (S0*stats.norm.cdf(d1,0.0,1.0) - K*np.exp(-r*T)*stats.norm.cdf(d2,0.0,1.0))\n",
    "    return call_value\n",
    "\n",
    "\n",
    "## BSMOPM parameter setting ##\n",
    "S_0= 100.\n",
    "K= 105.\n",
    "T= 2.\n",
    "r= 0.05\n",
    "sigma= 0.2\n",
    "avg_jump_num = 2.0 # jump 발생횟수 줄이면 call price가 낮아짐\n",
    "avg_jump_logsize = 0.0\n",
    "vol_jump_logsize = 0.2\n",
    "\n",
    "## Monte Carlo Simulation ##\n",
    "N = int(1e7)         # Number of sample paths\n",
    "#W_T = np.random.normal(loc=0.0, scale=np.sqrt(T), size=N)\n",
    "W_T = np.random.randn(N)*np.sqrt(T)\n",
    "jump_num = np.random.poisson(lam=avg_jump_num*T, size=N)\n",
    "jump_size = np.ones(N)\n",
    "\n",
    "# jump_num 별로 jump_size 시뮬레이션\n",
    "for i in range(N):\n",
    "    if(jump_num[i]>0):\n",
    "        jump_size[i] = np.prod( np.exp( np.random.normal(loc=avg_jump_logsize, scale=vol_jump_logsize, size=jump_num[i])))\n",
    "        \n",
    "S_T = S_0*np.exp((r-0.5*sigma*sigma)*T + sigma*W_T)*jump_size\n",
    "C_0 = np.exp(-r*T)*(S_T-K)*(S_T > K) # \n",
    "\n",
    "print('Estimated Call Price (95% C.I.) = ',np.mean(C_0),' +- ',1.96*np.std(C_0)/np.sqrt(N))\n",
    "print('BSM Call Price = ', bsm_call_value(S_0,K,T,r,sigma))"
   ]
  }
 ],
 "metadata": {
  "kernelspec": {
   "display_name": "Python 3",
   "language": "python",
   "name": "python3"
  },
  "language_info": {
   "codemirror_mode": {
    "name": "ipython",
    "version": 3
   },
   "file_extension": ".py",
   "mimetype": "text/x-python",
   "name": "python",
   "nbconvert_exporter": "python",
   "pygments_lexer": "ipython3",
   "version": "3.7.4"
  }
 },
 "nbformat": 4,
 "nbformat_minor": 4
}
