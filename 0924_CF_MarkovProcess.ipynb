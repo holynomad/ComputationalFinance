{
 "cells": [
  {
   "cell_type": "code",
   "execution_count": 1,
   "metadata": {},
   "outputs": [
    {
     "data": {
      "text/plain": [
       "6.223015277861142e-61"
      ]
     },
     "execution_count": 1,
     "metadata": {},
     "output_type": "execute_result"
    }
   ],
   "source": [
    "import numpy as np\n",
    "\n",
    "\n",
    "0.5**200"
   ]
  },
  {
   "cell_type": "code",
   "execution_count": 1,
   "metadata": {},
   "outputs": [
    {
     "name": "stdout",
     "output_type": "stream",
     "text": [
      "[ 0.4971456805287897  ,  0.5018543854941976 ]\n"
     ]
    }
   ],
   "source": [
    "# 95% 신뢰구간 구하기 (지난 9/17 수업 마지막 실습코드 복습)\n",
    "from scipy.stats import norm\n",
    "import numpy as np\n",
    "\n",
    "cl=0.99\n",
    "alpha = (1-cl)/2\n",
    "\n",
    "z_a = -norm.ppf(alpha)\n",
    "z_a\n",
    "\n",
    "N=100000\n",
    "np.random.seed(0)\n",
    "\n",
    "Z=np.random.rand(N)\n",
    "Z_bar=np.mean(Z)\n",
    "S= np.std(Z, ddof=1) #자유도에서 1을 빼줘라 --> sample std.를 의미 !!\n",
    "\n",
    "ci_lower=Z_bar - z_a*S/np.sqrt(N)\n",
    "ci_upper=Z_bar + z_a*S/np.sqrt(N)\n",
    "\n",
    "print(\"[\", ci_lower, \" , \" , ci_upper, \"]\")"
   ]
  },
  {
   "cell_type": "code",
   "execution_count": null,
   "metadata": {},
   "outputs": [],
   "source": []
  }
 ],
 "metadata": {
  "kernelspec": {
   "display_name": "Python 3",
   "language": "python",
   "name": "python3"
  },
  "language_info": {
   "codemirror_mode": {
    "name": "ipython",
    "version": 3
   },
   "file_extension": ".py",
   "mimetype": "text/x-python",
   "name": "python",
   "nbconvert_exporter": "python",
   "pygments_lexer": "ipython3",
   "version": "3.7.4"
  }
 },
 "nbformat": 4,
 "nbformat_minor": 4
}
