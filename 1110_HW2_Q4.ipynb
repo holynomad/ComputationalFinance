{
 "cells": [
  {
   "cell_type": "code",
   "execution_count": 3,
   "metadata": {},
   "outputs": [
    {
     "name": "stdout",
     "output_type": "stream",
     "text": [
      "Estimated Digital Call Price (95% CI) =  0.4669100422027934  ±  0.0002802681366310155\n",
      "Estimated Digital Put Price (95% CI) =  0.43792737583316715  ±  0.00028026813663101544\n"
     ]
    }
   ],
   "source": [
    "# 4. digital option pricing by simulation\n",
    "# (a) estimate digital call & put option price by simulation & 95% CI\n",
    "import numpy as np\n",
    "\n",
    "S_0= 100. \n",
    "K= 105.\n",
    "T= 2.\n",
    "r= 0.05 \n",
    "sigma= 0.2\n",
    "np.random.seed(0)\n",
    "\n",
    "N = int(1e7)\n",
    "W_T = np.random.randn(N)*np.sqrt(T)\n",
    "S_T = S_0*np.exp((r-0.5*sigma*sigma)*T + sigma*W_T)\n",
    "C_0 = np.exp(-r*T)*(S_T >= K) # indicator func. for call: (S_T >= K)\n",
    "P_0 = np.exp(-r*T)*(S_T <= K) # indicator func. for put : (S_T <= K)\n",
    "\n",
    "print('Estimated Digital Call Price (95% CI) = ',np.mean(C_0),' ± ',1.96*np.std(C_0)/np.sqrt(N)) \n",
    "print('Estimated Digital Put Price (95% CI) = ',np.mean(P_0),' ± ',1.96*np.std(P_0)/np.sqrt(N))"
   ]
  },
  {
   "cell_type": "code",
   "execution_count": 6,
   "metadata": {},
   "outputs": [
    {
     "name": "stdout",
     "output_type": "stream",
     "text": [
      "Estimated Digital Call Price (95% CI) =  0.4669100422027934  ±  0.0002802681366310155\n",
      "Call Price (BSMOPM formula) =  0.4667215132172113\n",
      "Estimated Digital Put Price (95% CI) =  0.43792737583316715  ±  0.00028026813663101544\n",
      "Put Price (BSMOPM formula) =  0.43811590481874824\n"
     ]
    }
   ],
   "source": [
    "# 4-(b) compare result with Q3\n",
    "import numpy as np \n",
    "from scipy import stats\n",
    "\n",
    "# define BSMOPM formula for call\n",
    "def bsm_call_value(S0, K, T, r, sigma):\n",
    "    d1= (np.log(S0/K)+(r+0.5*sigma**2)*T)/(sigma*np.sqrt(T)) \n",
    "    d2= (np.log(S0/K)+(r-0.5*sigma**2)*T)/(sigma*np.sqrt(T)) \n",
    "    call_value = np.exp(-r*T)*stats.norm.cdf(d2,0.0,1.0)\n",
    "    return call_value\n",
    "\n",
    "# define BSMOPM formula for put using put-call parity\n",
    "def bsm_put_value(S0, K, T, r, sigma):\n",
    "    d2= (np.log(S0/K)+(r-0.5*sigma**2)*T)/(sigma*np.sqrt(T)) \n",
    "    put_value = np.exp(-r*T)*stats.norm.cdf((-1)*d2,0.0,1.0) \n",
    "    return put_value\n",
    "\n",
    "np.random.seed(0)\n",
    "S_0= 100. \n",
    "K= 105. \n",
    "T= 2.\n",
    "r= 0.05\n",
    "sigma= 0.2\n",
    "\n",
    "# digital option pricing by simulation\n",
    "N = int(1e7)\n",
    "W_T = np.random.randn(N)*np.sqrt(T)\n",
    "S_T = S_0*np.exp((r-0.5*sigma*sigma)*T + sigma*W_T)\n",
    "C_0 = np.exp(-r*T)*(S_T >= K)\n",
    "P_0 = np.exp(-r*T)*(S_T <= K)\n",
    "\n",
    "# implication : digital option pricing by simulation 통한 95% 신뢰구간 오차범위 안에 BSMOPM formula TRUE값이 포함!\n",
    "print('Estimated Digital Call Price (95% CI) = ',np.mean(C_0),' ± ',1.96*np.std(C_0)/np.sqrt(N)) \n",
    "print('Call Price (BSMOPM formula) = ', bsm_call_value(S_0,K,T,r,sigma))\n",
    "print('Estimated Digital Put Price (95% CI) = ',np.mean(P_0),' ± ',1.96*np.std(P_0)/np.sqrt(N)) \n",
    "print('Put Price (BSMOPM formula) = ', bsm_put_value(S_0,K,T,r,sigma))\n"
   ]
  },
  {
   "cell_type": "code",
   "execution_count": null,
   "metadata": {},
   "outputs": [],
   "source": [
    "# 4-(c) can u derive the relationship between call & put prices for digital options using no-arbitrage arguments?\n",
    "\n",
    "# implication : \"law of one price\"에 따라 digital options pricing도 동일한 payoff를 갖는다."
   ]
  }
 ],
 "metadata": {
  "kernelspec": {
   "display_name": "Python 3",
   "language": "python",
   "name": "python3"
  },
  "language_info": {
   "codemirror_mode": {
    "name": "ipython",
    "version": 3
   },
   "file_extension": ".py",
   "mimetype": "text/x-python",
   "name": "python",
   "nbconvert_exporter": "python",
   "pygments_lexer": "ipython3",
   "version": "3.7.4"
  }
 },
 "nbformat": 4,
 "nbformat_minor": 4
}
