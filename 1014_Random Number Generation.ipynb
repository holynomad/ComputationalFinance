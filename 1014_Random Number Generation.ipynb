{
 "cells": [
  {
   "cell_type": "code",
   "execution_count": 1,
   "metadata": {},
   "outputs": [
    {
     "data": {
      "image/png": "[encoded data removed]",
      "text/plain": [
       "<Figure size 432x288 with 1 Axes>"
      ]
     },
     "metadata": {
      "needs_background": "light"
     },
     "output_type": "display_data"
    },
    {
     "name": "stderr",
     "output_type": "stream",
     "text": [
      "/usr/local/lib/python3.7/site-packages/seaborn/distributions.py:2551: FutureWarning: `distplot` is a deprecated function and will be removed in a future version. Please adapt your code to use either `displot` (a figure-level function with similar flexibility) or `histplot` (an axes-level function for histograms).\n",
      "  warnings.warn(msg, FutureWarning)\n"
     ]
    },
    {
     "data": {
      "image/png": "[encoded data removed]",
      "text/plain": [
       "<Figure size 432x288 with 1 Axes>"
      ]
     },
     "metadata": {
      "needs_background": "light"
     },
     "output_type": "display_data"
    }
   ],
   "source": [
    "import numpy as np\n",
    "import matplotlib.pyplot as plt\n",
    "import seaborn as sns\n",
    "\n",
    "np.random.seed(0)\n",
    "N = int(1e5)\n",
    "\n",
    "# Inverse Transform Method\n",
    "u = np.random.rand(N)\n",
    "lam = 1.0\n",
    "\n",
    "x = -np.log(1-u)/lam #\n",
    "\n",
    "plt.hist(x, 1000)\n",
    "plt.show()\n",
    "\n",
    "sns.distplot(x) # simulation density (blue)\n",
    "z = np.arange(0, 10, 0.01) # 0~10까지 0.01 간격으로 쪼개서 나열\n",
    "plt.plot(z, lam*np.exp(-lam*z), color='red') # 이론적인 density (red)\n",
    "plt.show()"
   ]
  },
  {
   "cell_type": "code",
   "execution_count": 2,
   "metadata": {},
   "outputs": [
    {
     "data": {
      "image/png": "[encoded data removed]",
      "text/plain": [
       "<Figure size 432x288 with 1 Axes>"
      ]
     },
     "metadata": {
      "needs_background": "light"
     },
     "output_type": "display_data"
    }
   ],
   "source": [
    "# -0.5 ~ 0.5사이의 난수 생성\n",
    "u = np.random.rand(N) - 0.5\n",
    "#u\n",
    "\n",
    "# Acceptance-Rejection Method Exercise\n",
    "x = -np.sign(u)*np.log(1-2*np.abs(u)) # Laplace Transform\n",
    "\n",
    "plt.hist(x, 1000)\n",
    "plt.show()\n"
   ]
  },
  {
   "cell_type": "code",
   "execution_count": null,
   "metadata": {},
   "outputs": [],
   "source": [
    "N = 1000\n",
    "x = np.zeros(N)\n",
    "c = np.sqrt(np.exp(1)/2*np.pi)\n",
    "\n",
    "for i in range(N):\n",
    "    # -0.5 ~ 0.5사이의 난수 생성\n",
    "    u1 = np.random.rand() - 0.5\n",
    "\n",
    "    # Acceptance-Rejection Method Exercise\n",
    "    y = -np.sign(u1)*np.log(1-2*np.abs(u1)) # Laplace Transform\n",
    "    \n",
    "\n",
    "    while(True):\n",
    "        u2 = np.random.rand()\n",
    "        f = 1/np.sqrt(2*np.pi)*np.exp(-y*y/2)\n",
    "        g = np.exp(-np.abs(y))\n",
    "        if (u2 <= f/(c*g)):\n",
    "            break\n",
    "    \n",
    "    x[i] = y\n",
    "\n",
    "\n",
    "plt.hist(x)\n",
    "plt.show()\n"
   ]
  },
  {
   "cell_type": "code",
   "execution_count": null,
   "metadata": {},
   "outputs": [],
   "source": [
    "# AR method말고 normal/randn 함수 패키지를 활용할 예정\n",
    "N = int(1e5)\n",
    "Z1 = 5.0 * np.random.randn(N) + 10.0 # 정규분포 함수 randn 사용 (평균10, 시그마5.0)\n",
    "Z2 = np.random.normal(loc=10.0, scale=5.0, size=N)\n",
    "\n",
    "plt.hist(Z1, 1000)\n",
    "plt.show()\n",
    "\n",
    "plt.hist(Z2, 1000)\n",
    "plt.show()"
   ]
  },
  {
   "cell_type": "code",
   "execution_count": null,
   "metadata": {},
   "outputs": [],
   "source": [
    "# Brownian Motion simulation\n",
    "np.random.seed(0)\n",
    "\n",
    "N = 252\n",
    "t = np.arange(0, 1, 1/N)\n",
    "dz = np.random.randn(N)*np.sqrt(1/N)\n",
    "z = np.insert(np.cumsum(dz), 0, 0) # 누적합 array 0번째 인덱스에 0을 추가 :0부터 차팅하기 위함\n",
    "\n",
    "plt.plot(z)\n",
    "plt.show()"
   ]
  },
  {
   "cell_type": "code",
   "execution_count": null,
   "metadata": {},
   "outputs": [],
   "source": [
    "a = np.array([5,2,3,4])\n",
    "b = np.cumsum(a)\n",
    "c = np.array[b, 3]\n",
    "c"
   ]
  },
  {
   "cell_type": "code",
   "execution_count": null,
   "metadata": {},
   "outputs": [],
   "source": [
    "# 위 예제와 동일한 random number 생성 로직\n",
    "np.random.seed(0)\n",
    "\n",
    "T = 1.0\n",
    "N = 252 # 하루\n",
    "dt = T/N\n",
    "Z = np.zeros(N+1)\n",
    "t = np.zeros(N+1)\n",
    "\n",
    "Z[0] = 0.0\n",
    "t[0] = 0.0\n",
    "\n",
    "for k in range(N):\n",
    "    dZ = np.random.randn()*np.sqrt(dt)\n",
    "    Z[k+1] = Z[k] + dZ\n",
    "    t[k+1] = t[k] + dt\n",
    "    \n",
    "plt.plot(t, Z)\n",
    "plt.show()"
   ]
  },
  {
   "cell_type": "code",
   "execution_count": null,
   "metadata": {},
   "outputs": [],
   "source": [
    "import numpy as np\n",
    "\n",
    "print(np.sqrt(27))"
   ]
  },
  {
   "cell_type": "code",
   "execution_count": null,
   "metadata": {},
   "outputs": [],
   "source": []
  }
 ],
 "metadata": {
  "kernelspec": {
   "display_name": "Python 3",
   "language": "python",
   "name": "python3"
  },
  "language_info": {
   "codemirror_mode": {
    "name": "ipython",
    "version": 3
   },
   "file_extension": ".py",
   "mimetype": "text/x-python",
   "name": "python",
   "nbconvert_exporter": "python",
   "pygments_lexer": "ipython3",
   "version": "3.7.4"
  }
 },
 "nbformat": 4,
 "nbformat_minor": 4
}
