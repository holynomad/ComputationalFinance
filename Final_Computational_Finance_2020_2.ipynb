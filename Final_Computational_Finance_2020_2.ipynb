{
 "cells": [
  {
   "cell_type": "code",
   "execution_count": 1,
   "metadata": {},
   "outputs": [],
   "source": [
    "# 1. Pricing a Barrier Option\n",
    "# --> GBM 이용한 option pricing\n",
    "\n",
    "# LN 7주차 : Generating Sample Paths\n",
    "# LN 12주차 : Sampling processes with jump\n",
    "# HW#3-1 참조 (barrier option pricing with discretization scheme)\n",
    "# HW#3-3-(a) 참조 (Euler discretization을 이용한 sample paths 부분)\n"
   ]
  },
  {
   "cell_type": "code",
   "execution_count": 2,
   "metadata": {},
   "outputs": [],
   "source": [
    "# 2. Pricing a Barrier Option with Jumps\n",
    "# --> 1번과 컨셉 동일 + JD application\n",
    "\n",
    "# LN 11주차 : Jump-diffusion Process 중 Poisson process ~ Jump diffusion model \n",
    "# LN 12주차 : Sampling processes with jump 제일 마지막 장 !!\n",
    "# 1203_Sampling Process with Jump.ipynb + Option Pricing with Jump.py 참조\n"
   ]
  },
  {
   "cell_type": "code",
   "execution_count": 3,
   "metadata": {},
   "outputs": [],
   "source": [
    "# 3. Basket Call Option Pricing\n",
    "# --> using Multivariate-Normal\n",
    "# cf) Asian Call : 시간 축 상(time-series) 평균값 correlation \n",
    "# --> 변형해서 각 portfolio를 담은 산술평균에서 strike 뺀 max값 산출 (서로 다른 Brownian Motion이 공분산을 갖는 cross-sectional correlation)\n",
    "\n",
    "# LN 7주차 : Generating sample paths 중 \"Sampling BM from Multivariate-Normal\" 개념 선 숙지\n",
    "# \n",
    "# HW#2-5 Asian option pricing by simulation 변형해서 basket call로 적용해보기\n",
    "# \n",
    "\n"
   ]
  },
  {
   "cell_type": "code",
   "execution_count": 4,
   "metadata": {},
   "outputs": [],
   "source": [
    "# 4. Option Pricing under a Stochastic Volatility Model\n",
    "# -->\n",
    "\n",
    "# LN 7주차 : Generating sample paths 중 Discretization Methods ~ Euler scheme\n",
    "# LN 8-9주차 : Financial Modeling Examples(I) 중 Implied Volatility ~ Stochastic Volatility model(Heston)\n",
    "\n",
    "# BSM_examle_BHK_Euler.py 참조\n",
    "# Euler discretization 부분\n",
    "# HW#3-3-(a) Barrier option under CEV model 참조\n",
    "# "
   ]
  },
  {
   "cell_type": "code",
   "execution_count": null,
   "metadata": {},
   "outputs": [],
   "source": [
    "# 5. Option Pricing under Stochastic interest-rate model\n",
    "# -->\n",
    "\n",
    "# LN 8-9주차 : Financial Modeling Examples(I) 중 Interest rate models ~ sampling from diffusion(III) w/ Vasicek Model\n",
    "# LN 11주차 : Jump-diffusion Process 중 Poisson process ~ Jump diffusion model ~ Jump diffusion Short-rate model\n"
   ]
  }
 ],
 "metadata": {
  "kernelspec": {
   "display_name": "Python 3",
   "language": "python",
   "name": "python3"
  },
  "language_info": {
   "codemirror_mode": {
    "name": "ipython",
    "version": 3
   },
   "file_extension": ".py",
   "mimetype": "text/x-python",
   "name": "python",
   "nbconvert_exporter": "python",
   "pygments_lexer": "ipython3",
   "version": "3.7.4"
  }
 },
 "nbformat": 4,
 "nbformat_minor": 4
}
