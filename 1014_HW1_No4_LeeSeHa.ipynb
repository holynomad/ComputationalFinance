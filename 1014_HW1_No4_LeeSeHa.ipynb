{
 "cells": [
  {
   "cell_type": "code",
   "execution_count": 8,
   "metadata": {},
   "outputs": [
    {
     "name": "stdout",
     "output_type": "stream",
     "text": [
      "mean =  0.0011148956211957017\n",
      "std =  0.7052256564092161\n",
      "1.959963984540054\n",
      "2.5758293035489004\n",
      "95% ci = [ -0.003256057963765855 ,  0.005485849206157259 ]\n",
      "99% ci = [ -0.00462951112168545 ,  0.006859302364076854 ]\n"
     ]
    },
    {
     "data": {
      "image/png": "[encoded data removed]",
      "text/plain": [
       "<Figure size 432x288 with 1 Axes>"
      ]
     },
     "metadata": {
      "needs_background": "light"
     },
     "output_type": "display_data"
    }
   ],
   "source": [
    "# 4-(a) by LeeSeHa \n",
    "import numpy as np\n",
    "import matplotlib.pyplot as plt\n",
    "from scipy.stats import norm\n",
    "\n",
    "T=0.5      #0.5년후 BM 예측(모델링)\n",
    "N=int(1e5) #10만 samples\n",
    "\n",
    "np.random.seed(0)\n",
    "\n",
    "W_T= np.random.randn(N)*np.sqrt(T) #T시점에서의 브라우니안모션(W) 도출\n",
    "mean_W_T=np.mean(W_T)\n",
    "std_W_T=np.std(W_T)\n",
    "\n",
    "print(\"mean = \", mean_W_T)\n",
    "print(\"std = \", std_W_T)\n",
    "\n",
    "ci_95 = norm.ppf(0.975) #norm.cdf(0.025)와 같은 의미\n",
    "ci_99 = norm.ppf(0.995) #norm.cdf(0.0025)와 같은 의미\n",
    "\n",
    "print(ci_95)\n",
    "print(ci_99)\n",
    "\n",
    "print(\"95% ci = [\", mean_W_T-ci_95*std_W_T/np.sqrt(N), \n",
    "      \", \", mean_W_T+ci_95*std_W_T/np.sqrt(N), \"]\") #좀 더 정확하게 쓰려면 자유도가 N-1이 되어야 하나, 근사에 의해 무시가능\n",
    "\n",
    "print(\"99% ci = [\", mean_W_T-ci_99*std_W_T/np.sqrt(N), \n",
    "      \", \", mean_W_T+ci_99*std_W_T/np.sqrt(N), \"]\") #좀 더 정확하게 쓰려면 자유도가 N-1이 되어야 하나, 근사에 의해 무시가능\n",
    "\n",
    "\n",
    "plt.hist(W_T, 1000)\n",
    "plt.show()\n",
    "\n"
   ]
  },
  {
   "cell_type": "code",
   "execution_count": 13,
   "metadata": {},
   "outputs": [
    {
     "name": "stdout",
     "output_type": "stream",
     "text": [
      "mean =  -0.001989172851050016\n",
      "std =  0.6110761831200245\n",
      "95% ci = [ -0.005776592677624254 ,  0.0017982469755242216 ]\n",
      "99% ci = [ -0.006966686239604144 ,  0.0029883405375041123 ]\n"
     ]
    },
    {
     "data": {
      "image/png": "[encoded data removed]",
      "text/plain": [
       "<Figure size 432x288 with 1 Axes>"
      ]
     },
     "metadata": {
      "needs_background": "light"
     },
     "output_type": "display_data"
    }
   ],
   "source": [
    "# 4-(b) by LeeSeHa\n",
    "import numpy as np\n",
    "import matplotlib.pyplot as plt\n",
    "from scipy.stats import norm\n",
    "\n",
    "T=0.5      #0.5년후 BM 예측(모델링)\n",
    "N=int(1e5) #10만 samples\n",
    "\n",
    "np.random.seed(0)\n",
    "\n",
    "W_T= np.random.randn(N)*np.sqrt(T) #T시점에서의 브라우니안모션(W) 도출\n",
    "#W_1= np.random.randn(N)*np.sqrt(1) #<-- 이렇게 접근하면 안됨 !!\n",
    "\n",
    "W_1= W_T + np.random.randn(N)*np.sqrt(1) #<--W_1과 W_T는 독립이 아님 !! Cov(W_1, W_T) = T\n",
    "\n",
    "X_T = W_T - T*W_1\n",
    "mean_X_T = np.mean(X_T)\n",
    "std_X_T = np.std(X_T)\n",
    "\n",
    "print(\"mean = \", mean_X_T)\n",
    "print(\"std = \", std_X_T)\n",
    "\n",
    "ci_95 = norm.ppf(0.975) #norm.cdf(0.025)와 같은 의미\n",
    "ci_99 = norm.ppf(0.995) #norm.cdf(0.0025)와 같은 의미\n",
    "\n",
    "print(\"95% ci = [\", mean_X_T-ci_95*std_X_T/np.sqrt(N), \n",
    "      \", \", mean_X_T+ci_95*std_X_T/np.sqrt(N), \"]\") #좀 더 정확하게 쓰려면 자유도가 N-1이 되어야 하나, 근사에 의해 무시가능\n",
    "\n",
    "print(\"99% ci = [\", mean_X_T-ci_99*std_X_T/np.sqrt(N), \n",
    "      \", \", mean_X_T+ci_99*std_X_T/np.sqrt(N), \"]\") #좀 더 정확하게 쓰려면 자유도가 N-1이 되어야 하나, 근사에 의해 무시가능\n",
    "\n",
    "\n",
    "plt.hist(X_T, 1000)\n",
    "plt.show()"
   ]
  }
 ],
 "metadata": {
  "kernelspec": {
   "display_name": "Python 3",
   "language": "python",
   "name": "python3"
  },
  "language_info": {
   "codemirror_mode": {
    "name": "ipython",
    "version": 3
   },
   "file_extension": ".py",
   "mimetype": "text/x-python",
   "name": "python",
   "nbconvert_exporter": "python",
   "pygments_lexer": "ipython3",
   "version": "3.7.4"
  }
 },
 "nbformat": 4,
 "nbformat_minor": 4
}
