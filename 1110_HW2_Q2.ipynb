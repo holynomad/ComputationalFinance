{
 "cells": [
  {
   "cell_type": "code",
   "execution_count": 9,
   "metadata": {},
   "outputs": [
    {
     "data": {
      "image/png": "[encoded data removed]",
      "text/plain": [
       "<Figure size 432x288 with 1 Axes>"
      ]
     },
     "metadata": {
      "needs_background": "light"
     },
     "output_type": "display_data"
    }
   ],
   "source": [
    "# 2. using inverse transform algorithm\n",
    "# (a)\n",
    "import numpy as np\n",
    "import matplotlib.pyplot as plt\n",
    "\n",
    "np.random.seed(0) \n",
    "N = int(1e5)\n",
    "U = np.random.rand(N) # uniform한 난수 생성 \n",
    "X_Inv = 1 - np.sqrt(1-U)  # Fx(u) inverse function (0 <= u <= 1)\n",
    "\n",
    "plt.hist(X_Inv, 100) \n",
    "plt.show()"
   ]
  },
  {
   "cell_type": "code",
   "execution_count": 12,
   "metadata": {},
   "outputs": [
    {
     "name": "stdout",
     "output_type": "stream",
     "text": [
      "95% CI => [ 0.33237382115153424 , 0.33529623057342717 ]\n"
     ]
    }
   ],
   "source": [
    "# 2. using inverse transform algorithm\n",
    "# (b) estimate the mean & 95% CI\n",
    "from scipy.stats import norm\n",
    "\n",
    "X_mean = np.mean(X) \n",
    "X_std = np.std(X)\n",
    "\n",
    "alpha_95 = norm.ppf(0.975)\n",
    "\n",
    "print(\"95% CI => [\", X_mean-alpha_95*X_std/np.sqrt(N) ,\",\", X_mean+alpha_95*X_std/np.sqrt(N),\"]\")"
   ]
  },
  {
   "cell_type": "code",
   "execution_count": 13,
   "metadata": {},
   "outputs": [
    {
     "data": {
      "image/png": "[encoded data removed]",
      "text/plain": [
       "<Figure size 432x288 with 1 Axes>"
      ]
     },
     "metadata": {
      "needs_background": "light"
     },
     "output_type": "display_data"
    },
    {
     "name": "stdout",
     "output_type": "stream",
     "text": [
      "95% CI => [ 0.33237382115153424 , 0.33529623057342717 ]\n"
     ]
    }
   ],
   "source": [
    "# 2-(c) using Acceptance-Rejection, repeat (a) & (b)\n",
    "c = 2\n",
    "idx = 0\n",
    "X = np.zeros(N)\n",
    "\n",
    "while(idx<N) :\n",
    "    U1 = np.random.rand() \n",
    "    U2 = np.random.rand() \n",
    "    \n",
    "    if(c*U2 <= 2*(1-U1)):\n",
    "        X[idx] = U1 \n",
    "        idx = idx + 1\n",
    "        \n",
    "plt.hist(X,100) \n",
    "plt.show()\n",
    "\n",
    "X_mean = np.mean(X) \n",
    "X_std = np.std(X)\n",
    "\n",
    "alpha_95 = norm.ppf(0.975)\n",
    "print(\"95% CI => [\", X_mean-alpha_95*X_std/np.sqrt(N) ,\",\", X_mean+alpha_95*X_std/np.sqrt(N),\"]\")\n"
   ]
  }
 ],
 "metadata": {
  "kernelspec": {
   "display_name": "Python 3",
   "language": "python",
   "name": "python3"
  },
  "language_info": {
   "codemirror_mode": {
    "name": "ipython",
    "version": 3
   },
   "file_extension": ".py",
   "mimetype": "text/x-python",
   "name": "python",
   "nbconvert_exporter": "python",
   "pygments_lexer": "ipython3",
   "version": "3.7.4"
  }
 },
 "nbformat": 4,
 "nbformat_minor": 4
}
