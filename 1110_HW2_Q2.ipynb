{
 "cells": [
  {
   "cell_type": "code",
   "execution_count": 1,
   "metadata": {},
   "outputs": [
    {
     "ename": "SyntaxError",
     "evalue": "invalid syntax (<ipython-input-1-27f46d2725b9>, line 14)",
     "output_type": "error",
     "traceback": [
      "\u001b[0;36m  File \u001b[0;32m\"<ipython-input-1-27f46d2725b9>\"\u001b[0;36m, line \u001b[0;32m14\u001b[0m\n\u001b[0;31m    var_pf = (w1**2)*(sig_vec[0]**2) 2*w1*w2*corr*sig_vec[0]*sig_vec[1]\u001b[0m\n\u001b[0m                                     ^\u001b[0m\n\u001b[0;31mSyntaxError\u001b[0m\u001b[0;31m:\u001b[0m invalid syntax\n"
     ]
    }
   ],
   "source": [
    "#\n",
    "import numpy as np\n",
    "import matplotlib.pyplot as plt\n",
    "\n",
    "np.random.seed(0) \n",
    "N = int(1e4)\n",
    "mu_vec = np.array([0.15, 0.25]) \n",
    "sig_vec = np.array([0.1, 0.2]) \n",
    "corr = 0.2\n",
    "\n",
    "w1 = np.random.randn(N) \n",
    "w2 = 1 - w1\n",
    "mu_pf = w1*mu_vec[0] + w2*mu_vec[1] \n",
    "var_pf = (w1**2)*(sig_vec[0]**2) 2*w1*w2*corr*sig_vec[0]*sig_vec[1]\n",
    "std_pf = np.sqrt(var_pf)\n",
    "\n",
    "plt.plot(std_pf, mu_pf, '.') \n",
    "plt.show()"
   ]
  }
 ],
 "metadata": {
  "kernelspec": {
   "display_name": "Python 3",
   "language": "python",
   "name": "python3"
  },
  "language_info": {
   "codemirror_mode": {
    "name": "ipython",
    "version": 3
   },
   "file_extension": ".py",
   "mimetype": "text/x-python",
   "name": "python",
   "nbconvert_exporter": "python",
   "pygments_lexer": "ipython3",
   "version": "3.7.4"
  }
 },
 "nbformat": 4,
 "nbformat_minor": 4
}
