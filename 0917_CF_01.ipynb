{
 "cells": [
  {
   "cell_type": "code",
   "execution_count": 2,
   "metadata": {},
   "outputs": [
    {
     "data": {
      "text/plain": [
       "array([0.5488135 , 0.71518937, 0.60276338, 0.54488318, 0.4236548 ,\n",
       "       0.64589411, 0.43758721, 0.891773  , 0.96366276, 0.38344152])"
      ]
     },
     "execution_count": 2,
     "metadata": {},
     "output_type": "execute_result"
    }
   ],
   "source": [
    "import numpy as np\n",
    "\n",
    "np.random.seed(0)\n",
    "np.random.rand(10)"
   ]
  },
  {
   "cell_type": "code",
   "execution_count": 3,
   "metadata": {},
   "outputs": [
    {
     "name": "stdout",
     "output_type": "stream",
     "text": [
      "Specify the number of samples ==> 10000\n",
      "estimated PI =  3.1528\n"
     ]
    }
   ],
   "source": [
    "#np.set_printoptions(precision=3)\n",
    "np.pi\n",
    "\n",
    "np.random.seed(1)\n",
    "#N = 100000000\n",
    "N = int(input(\"Specify the number of samples ==> \"))\n",
    "X = np.random.rand(N) * 2 - 1 # -1~1사이의 N가지 난수 집합 X\n",
    "Y = np.random.rand(N) * 2 - 1\n",
    "\n",
    "M = np.sum( (X*X)+(Y*Y) < 1)\n",
    "print(\"estimated PI = \", 4.0*M/N)"
   ]
  },
  {
   "cell_type": "code",
   "execution_count": 5,
   "metadata": {},
   "outputs": [
    {
     "name": "stdout",
     "output_type": "stream",
     "text": [
      "a = 0.42\n",
      "b = 0.92\n",
      "numerical integration =  0.39719116027118573\n",
      "MC simulation =  0.39722102323853753\n"
     ]
    }
   ],
   "source": [
    "'''\n",
    "import numpy as np\n",
    "import scipy.integrate as integrate\n",
    "\n",
    "np.random.seed(1)\n",
    "\n",
    "a=0\n",
    "b=1\n",
    "\n",
    "N=10000\n",
    "X=a + np.random.rand(N)*(b-a)\n",
    "Y=np.random.rand(N)*np.exp(-a*a/2)\n",
    "\n",
    "M=np.sum( Y < np.exp(-X*X/2))\n",
    "MC_integ=(b-a)*np.exp(-a*a/2)*M/N\n",
    "print('MC_Integration = ', MC_integ)\n",
    "\n",
    "numeric_integ = np.exp(-a*a/2)*(b-a)*\n",
    "'''\n",
    "\n",
    "import numpy as np\n",
    "import scipy.integrate as integrate\n",
    "\n",
    "np.random.seed(0)\n",
    "while(1):\n",
    "    a = float(input(\"a = \"))\n",
    "    b = float(input(\"b = \"))\n",
    "    if(a >= b):\n",
    "        print(\"Error! a must be less than b...\")\n",
    "    else:\n",
    "        break\n",
    "    \n",
    "numerical_integration = integrate.quad(lambda x: np.exp(-x*x/2),a,b)\n",
    "print(\"numerical integration = \", numerical_integration[0])\n",
    "\n",
    "N = int(1e7)\n",
    "X = a + np.random.rand(N)*(b-a)\n",
    "Y = np.random.rand(N)*np.exp(-a*a/2)\n",
    "ind = np.sum(Y < np.exp(-X*X/2))\n",
    "\n",
    "MC_simulation = np.exp(-a*a/2)*(b-a)*(ind/N)\n",
    "print(\"MC simulation = \", MC_simulation)"
   ]
  },
  {
   "cell_type": "code",
   "execution_count": null,
   "metadata": {},
   "outputs": [],
   "source": []
  },
  {
   "cell_type": "code",
   "execution_count": null,
   "metadata": {},
   "outputs": [],
   "source": []
  },
  {
   "cell_type": "code",
   "execution_count": null,
   "metadata": {},
   "outputs": [],
   "source": []
  },
  {
   "cell_type": "code",
   "execution_count": null,
   "metadata": {},
   "outputs": [],
   "source": []
  }
 ],
 "metadata": {
  "kernelspec": {
   "display_name": "Python 3",
   "language": "python",
   "name": "python3"
  },
  "language_info": {
   "codemirror_mode": {
    "name": "ipython",
    "version": 3
   },
   "file_extension": ".py",
   "mimetype": "text/x-python",
   "name": "python",
   "nbconvert_exporter": "python",
   "pygments_lexer": "ipython3",
   "version": "3.7.4"
  }
 },
 "nbformat": 4,
 "nbformat_minor": 4
}
